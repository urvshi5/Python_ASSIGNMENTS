{
  "metadata": {
    "kernelspec": {
      "name": "python",
      "display_name": "Python (Pyodide)",
      "language": "python"
    },
    "language_info": {
      "codemirror_mode": {
        "name": "python",
        "version": 3
      },
      "file_extension": ".py",
      "mimetype": "text/x-python",
      "name": "python",
      "nbconvert_exporter": "python",
      "pygments_lexer": "ipython3",
      "version": "3.8"
    }
  },
  "nbformat_minor": 5,
  "nbformat": 4,
  "cells": [
    {
      "id": "5f423a36-4510-4427-b14d-dadd7c4f78fd",
      "cell_type": "code",
      "source": "# Task 1: Perform Basic Mathematical Operations\n\n\ntry:\n    num1 = float(input(\"Enter the first number: \"))\n    num2 = float(input(\"Enter the second number: \"))\n\n    # 2. Perform the basic mathematical operations.\n    addition = num1 + num2\n    subtraction = num1 - num2\n    multiplication = num1 * num2\n\n    # For division, we must check if the second number is zero to avoid an error.\n    if num2 != 0:\n        division = num1 / num2\n    else:\n        division = \"Error: Cannot divide by zero.\"\n\n    # 3. Display the results of each operation on the screen.\n  \n    print(\"\\n--- Results ---\")\n    print(f\"Addition:       {num1} + {num2} = {addition}\")\n    print(f\"Subtraction:    {num1} - {num2} = {subtraction}\")\n    print(f\"Multiplication: {num1} * {num2} = {multiplication}\")\n    print(f\"Division:       {num1} / {num2} = {division}\")\n\nexcept ValueError:\n    print(\"Invalid input. Please enter valid numbers.\")",
      "metadata": {
        "trusted": true
      },
      "outputs": [
        {
          "output_type": "stream",
          "name": "stdin",
          "text": "Enter the first number:  23\nEnter the second number:  36\n"
        },
        {
          "name": "stdout",
          "output_type": "stream",
          "text": "\n--- Results ---\nAddition:       23.0 + 36.0 = 59.0\nSubtraction:    23.0 - 36.0 = -13.0\nMultiplication: 23.0 * 36.0 = 828.0\nDivision:       23.0 / 36.0 = 0.6388888888888888\n"
        }
      ],
      "execution_count": 1
    },
    {
      "id": "efc5d6f8-67c5-4e7a-9d24-12c02be7bc98",
      "cell_type": "code",
      "source": "",
      "metadata": {
        "trusted": true
      },
      "outputs": [],
      "execution_count": null
    }
  ]
}