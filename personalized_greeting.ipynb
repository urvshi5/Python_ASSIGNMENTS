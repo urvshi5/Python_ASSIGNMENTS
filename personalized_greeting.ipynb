{
  "metadata": {
    "kernelspec": {
      "name": "python",
      "display_name": "Python (Pyodide)",
      "language": "python"
    },
    "language_info": {
      "codemirror_mode": {
        "name": "python",
        "version": 3
      },
      "file_extension": ".py",
      "mimetype": "text/x-python",
      "name": "python",
      "nbconvert_exporter": "python",
      "pygments_lexer": "ipython3",
      "version": "3.8"
    }
  },
  "nbformat_minor": 5,
  "nbformat": 4,
  "cells": [
    {
      "id": "78a514d3-22d3-44ae-96c4-005cde1d89ba",
      "cell_type": "code",
      "source": "# Task 2: Create a Personalized Greeting\nfirst_name = input(\"Please enter your first name: \")\nlast_name = input(\"Please enter your last name: \")\nfull_name = first_name + \" \" + last_name\nprint(f\"\\nHello, {full_name}! Welcome to Python programming.\")",
      "metadata": {
        "trusted": true
      },
      "outputs": [
        {
          "output_type": "stream",
          "name": "stdin",
          "text": "Please enter your first name:  priyanka \nPlease enter your last name:  Thummar\n"
        },
        {
          "name": "stdout",
          "output_type": "stream",
          "text": "\nHello, priyanka  Thummar! Welcome to Python programming.\n"
        }
      ],
      "execution_count": 3
    },
    {
      "id": "f605e762-7007-40fd-8e51-9ecab077a82a",
      "cell_type": "code",
      "source": "",
      "metadata": {
        "trusted": true
      },
      "outputs": [],
      "execution_count": null
    }
  ]
}